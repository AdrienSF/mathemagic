{
 "metadata": {
  "language_info": {
   "codemirror_mode": {
    "name": "ipython",
    "version": 3
   },
   "file_extension": ".py",
   "mimetype": "text/x-python",
   "name": "python",
   "nbconvert_exporter": "python",
   "pygments_lexer": "ipython3",
   "version": "3.9.4"
  },
  "orig_nbformat": 2,
  "kernelspec": {
   "name": "python394jvsc74a57bd07d6993cb2f9ce9a59d5d7380609d9cb5192a9dedd2735a011418ad9e827eb538",
   "display_name": "Python 3.9.4 64-bit"
  },
  "metadata": {
   "interpreter": {
    "hash": "7d6993cb2f9ce9a59d5d7380609d9cb5192a9dedd2735a011418ad9e827eb538"
   }
  }
 },
 "nbformat": 4,
 "nbformat_minor": 2,
 "cells": [
  {
   "cell_type": "code",
   "execution_count": 1,
   "metadata": {},
   "outputs": [],
   "source": [
    "import random\n",
    "# isbn13: english book american publisher will start with 978-1 or 978-0 primarily, possibly 979\n",
    "# isbn10: english book american publisher will start with 1 or 0\n",
    "\n",
    "\n",
    "\n",
    "def splitint(thing: int):\n",
    "    return [int(c) for c in str(thing)]\n",
    "\n",
    "\n",
    "def get_rand_isbn10(exclude10=True):\n",
    "    front = [ random.choice(range(10)) for _ in range(9)]\n",
    "    last = (11 - (sum([ (10-i)*front[i] for i in range(len(front)) ]) % 11)) % 11\n",
    "    if exclude10:\n",
    "        if last == 10:\n",
    "            return get_rand_isbn10(True)\n",
    "    return ''.join([str(d) for d in front + [last]])\n",
    "\n",
    "\n",
    "def check_isbn10(pos):\n",
    "    pos = str(pos)\n",
    "    return sum([ (11-i)*int(pos[i]) for i in range(len(pos)) ]) % 11 == 0\n",
    "    \n",
    "\n",
    "\n",
    "def get_rand_isbn13(usenglish=True):\n",
    "    front = [ random.choice(range(10)) for _ in range(12)]\n",
    "    if usenglish:\n",
    "        front = [978] + [random.choice([0,1])] + [ random.choice(range(10)) for _ in range(8)]\n",
    "    last = (10 - (sum([ ( 2*(i%2)+1 )*front[1] for i in range(len(front)) ]) % 10)) % 10\n",
    "\n",
    "    return int(''.join([str(d) for d in front + [last]]))\n",
    "\n",
    "\n",
    "def check_isbn13(pos):\n",
    "    pos = str(pos)\n",
    "\n",
    "    return sum([ ( 2*(i%2)+1 )*int(pos[i]) for i in range(len(pos))]) % 10 == 0\n",
    "\n",
    "\n",
    "def weighted_sum(pos: list, isbn13=False):\n",
    "    if isbn13:\n",
    "        return sum([ ( 2*(i%2)+1 )*int(pos[i]) for i in range(len(pos))])\n",
    "    else:\n",
    "        return sum([ (10-i)*int(pos[i]) for i in range(len(pos)) ])\n",
    "\n",
    "\n",
    "def get_factor(altered: list, prime: int):\n",
    "    res = weighted_sum(altered) % 11\n",
    "    # print(res)\n",
    "    for i in range(1,11):\n",
    "        if (i*prime % 11) == res:\n",
    "            return i\n",
    "    print('[WARNING]: no solution to i*'+str(prime)+ ' %11 == ' + str(res) + ' for i in range(1,11)')\n",
    "    return False\n"
   ]
  },
  {
   "cell_type": "code",
   "execution_count": 2,
   "metadata": {},
   "outputs": [
    {
     "output_type": "execute_result",
     "data": {
      "text/plain": [
       "'0107294583'"
      ]
     },
     "metadata": {},
     "execution_count": 2
    }
   ],
   "source": [
    "# def correct_altered(altered: str, prime: int):\n",
    "#     factor = get_factor(altered, prime)\n",
    "#     if factor:\n",
    "#         altered_pos = 10 - factor\n",
    "#         return altered[:altered_pos] + str(int(altered[altered_pos]) - prime) + altered[altered_pos + 1:]\n",
    "#     else:\n",
    "#         return alse\n",
    "\n",
    "\n",
    "altered = '3107294583'\n",
    "prime = 3\n",
    "correct_altered('3107294583', 3)"
   ]
  },
  {
   "cell_type": "code",
   "execution_count": 6,
   "metadata": {},
   "outputs": [
    {
     "output_type": "execute_result",
     "data": {
      "text/plain": [
       "'0107294583'"
      ]
     },
     "metadata": {},
     "execution_count": 6
    }
   ],
   "source": [
    "# check_isbn10(get_rand_isbn10())\n",
    "get_rand_isbn10()"
   ]
  },
  {
   "cell_type": "code",
   "execution_count": 51,
   "metadata": {},
   "outputs": [
    {
     "output_type": "execute_result",
     "data": {
      "text/plain": [
       "['0', '1', '0', '7', '2', '9', '4', '5', '8', '3']"
      ]
     },
     "metadata": {},
     "execution_count": 51
    }
   ],
   "source": [
    "def correct_altered(altered: list, prime: int):\n",
    "    assert len(altered) == 10\n",
    "     \n",
    "    factor = get_factor(altered, prime)\n",
    "\n",
    "    if factor:\n",
    "        altered_pos = 10 - factor\n",
    "        corrected = altered[:altered_pos] + [str(int(altered[altered_pos]) - prime)] + altered[altered_pos + 1:]\n",
    "        double = [ e for e in corrected if len(e) == 2 ]\n",
    "        if int(altered[altered_pos]) < prime:\n",
    "            return False\n",
    "        if len(double) == 0 or (corrected[-1] == '10' and len(double) == 1 and double[0] == '10'):\n",
    "            return corrected\n",
    "    \n",
    "    return False\n",
    "\n",
    "\n",
    "def is_pos(pos: list, prime: int):\n",
    "    double = [ e for e in pos if len(e) == 2 ][0]\n",
    "    if pos[-1] == double:\n",
    "        return int(double) <= prime + 10 and int(double) >= prime and int(double) >= 10\n",
    "    else:\n",
    "        return int(double) <= prime + 9 and int(double) >= prime and int(double) >= 10\n",
    "\n",
    "\n",
    "def get_pos_entries(altered: str, prime: int):\n",
    "    assert len(altered) <= 12 and len(altered) >= 10\n",
    "    digits = [d for d in altered]\n",
    "\n",
    "    if len(altered) == 10:\n",
    "        return [[d for d in altered]]\n",
    "    elif len(altered) == 11:\n",
    "        if altered[-2:] == '10':\n",
    "            return [[d for d in altered][:-2] + ['10']]\n",
    "        else:\n",
    "            # then either 10 start, 11 with prime or\n",
    "            # 11 start, prime added to last entry.\n",
    "            # in any case\n",
    "            pos_entries = [ digits[:i] + [''.join(digits[i:i+2])] + digits[i+2:] for i in range(len(digits)-1) ]\n",
    "            print(pos_entries)\n",
    "            return [ pos for pos in pos_entries if is_pos(pos, prime) ]\n",
    "    elif len(altered) == 12:\n",
    "        # then 11 start (last entry MUST be 10) + prime to give 12\n",
    "        assert altered[-2:] == '10'\n",
    "        pos_entries = [ digits[:i] + [''.join(digits[i:i+2])] + digits[i+2:-2] + [''.join(digits[-2:])] for i in range(len(digits)-3) ]\n",
    "        print(pos_entries)\n",
    "        return [ pos for pos in pos_entries if is_pos(pos, prime) ]\n",
    "\n",
    "\n",
    "\n",
    "# get_pos_entries('010729458110', 7)\n",
    "correct_altered(['0','1', '0', '14', '2','9','4','5','8','3'], 7)\n"
   ]
  },
  {
   "cell_type": "code",
   "execution_count": 52,
   "metadata": {},
   "outputs": [
    {
     "output_type": "stream",
     "name": "stdout",
     "text": [
      "[['00', '6', '3', '3', '1', '6', '1', '3', '9', '2'], ['0', '06', '3', '3', '1', '6', '1', '3', '9', '2'], ['0', '0', '63', '3', '1', '6', '1', '3', '9', '2'], ['0', '0', '6', '33', '1', '6', '1', '3', '9', '2'], ['0', '0', '6', '3', '31', '6', '1', '3', '9', '2'], ['0', '0', '6', '3', '3', '16', '1', '3', '9', '2'], ['0', '0', '6', '3', '3', '1', '61', '3', '9', '2'], ['0', '0', '6', '3', '3', '1', '6', '13', '9', '2'], ['0', '0', '6', '3', '3', '1', '6', '1', '39', '2'], ['0', '0', '6', '3', '3', '1', '6', '1', '3', '92']]\n"
     ]
    },
    {
     "output_type": "execute_result",
     "data": {
      "text/plain": [
       "[['0', '0', '6', '3', '3', '16', '1', '3', '9', '2'],\n",
       " ['0', '0', '6', '3', '3', '1', '6', '13', '9', '2']]"
      ]
     },
     "metadata": {},
     "execution_count": 52
    }
   ],
   "source": [
    "get_pos_entries('00633161392', 7)"
   ]
  },
  {
   "cell_type": "code",
   "execution_count": 54,
   "metadata": {},
   "outputs": [
    {
     "output_type": "execute_result",
     "data": {
      "text/plain": [
       "['0', '0', '6', '3', '3', '1', '6', '6', '9', '2']"
      ]
     },
     "metadata": {},
     "execution_count": 54
    }
   ],
   "source": [
    "correct_altered(['0', '0', '6', '3', '3', '1', '6', '13', '9', '2'], 7)"
   ]
  },
  {
   "cell_type": "code",
   "execution_count": 23,
   "metadata": {},
   "outputs": [
    {
     "output_type": "execute_result",
     "data": {
      "text/plain": [
       "False"
      ]
     },
     "metadata": {},
     "execution_count": 23
    }
   ],
   "source": [
    "double = [ e for e in [1,1,3] if e == 2 ]\n",
    "bool(double)"
   ]
  },
  {
   "cell_type": "code",
   "execution_count": 56,
   "metadata": {},
   "outputs": [
    {
     "output_type": "execute_result",
     "data": {
      "text/plain": [
       "'1936865564'"
      ]
     },
     "metadata": {},
     "execution_count": 56
    }
   ],
   "source": [
    "get_rand_isbn10(exclude10=False)"
   ]
  },
  {
   "cell_type": "code",
   "execution_count": null,
   "metadata": {},
   "outputs": [],
   "source": [
    "11136865564"
   ]
  }
 ]
}