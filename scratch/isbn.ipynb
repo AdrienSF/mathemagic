{
 "metadata": {
  "language_info": {
   "codemirror_mode": {
    "name": "ipython",
    "version": 3
   },
   "file_extension": ".py",
   "mimetype": "text/x-python",
   "name": "python",
   "nbconvert_exporter": "python",
   "pygments_lexer": "ipython3",
   "version": "3.9.0"
  },
  "orig_nbformat": 2,
  "kernelspec": {
   "name": "python3",
   "display_name": "Python 3",
   "language": "python"
  }
 },
 "nbformat": 4,
 "nbformat_minor": 2,
 "cells": [
  {
   "cell_type": "code",
   "execution_count": 1,
   "metadata": {},
   "outputs": [],
   "source": [
    "import random\n",
    "\n",
    "def splitint(thing: int):\n",
    "    return [int(c) for c in str(thing)]\n",
    "\n",
    "\n",
    "def get_rand_isbn10(exclude10=True):\n",
    "    front = [ random.choice(range(10)) for _ in range(9)]\n",
    "    last = (11 - (sum([ (10-i)*front[i] for i in range(len(front)) ]) % 11)) % 11\n",
    "    if exclude10:\n",
    "        if last == 10:\n",
    "            return get_rand_isbn10(True)\n",
    "    return ''.join([str(d) for d in front + [last]])\n",
    "\n",
    "\n",
    "def check_isbn10(pos):\n",
    "    pos = str(pos)\n",
    "    return sum([ (11-i)*int(pos[i]) for i in range(len(pos)) ]) % 11 == 0\n",
    "    \n",
    "\n",
    "\n",
    "def get_rand_isbn13(usenglish=True):\n",
    "    front = [ random.choice(range(10)) for _ in range(12)]\n",
    "    if usenglish:\n",
    "        front = [978] + [random.choice([0,1])] + [ random.choice(range(10)) for _ in range(8)]\n",
    "    last = (10 - (sum([ ( 2*(i%2)+1 )*front[1] for i in range(len(front)) ]) % 10)) % 10\n",
    "\n",
    "    return int(''.join([str(d) for d in front + [last]]))\n",
    "\n",
    "\n",
    "def check_isbn13(pos):\n",
    "    pos = str(pos)\n",
    "\n",
    "    return sum([ ( 2*(i%2)+1 )*int(pos[i]) for i in range(len(pos))]) % 10 == 0\n",
    "\n",
    "\n",
    "def weighted_sum(pos: str, isbn13=False):\n",
    "    if isbn13:\n",
    "        return sum([ ( 2*(i%2)+1 )*int(pos[i]) for i in range(len(pos))])\n",
    "    else:\n",
    "        return sum([ (10-i)*int(pos[i]) for i in range(len(pos)) ])\n",
    "\n",
    "\n",
    "def get_factor(altered: str, prime: int):\n",
    "    res = weighted_sum(altered) % 11\n",
    "    # print(res)\n",
    "    for i in range(1,11):\n",
    "        if (i*prime % 11) == res:\n",
    "            return i\n",
    "    print('[WARNING]: no solution to i*'+str(prime)+ ' %11 == ' + str(res) + ' for i in range(1,11)')\n",
    "\n",
    "\n",
    "def correct_altered(altered: str, prime: int):\n",
    "altered_pos = 10 - get_factor(altered, prime)\n",
    "return altered[:altered_pos] + str(int(altered[altered_pos]) - prime) + altered[altered_pos + 1:]\n"
   ]
  },
  {
   "cell_type": "code",
   "execution_count": 8,
   "metadata": {},
   "outputs": [
    {
     "output_type": "execute_result",
     "data": {
      "text/plain": [
       "'0107294583'"
      ]
     },
     "metadata": {},
     "execution_count": 8
    }
   ],
   "source": [
    "def correct_altered(altered: str, prime: int):\n",
    "    altered_pos = 10 - get_factor(altered, prime)\n",
    "    return altered[:altered_pos] + str(int(altered[altered_pos]) - prime) + altered[altered_pos + 1:]\n",
    "\n",
    "\n",
    "altered = '3107294583'\n",
    "prime = 3\n",
    "correct_altered('3107294583', 3)"
   ]
  },
  {
   "cell_type": "code",
   "execution_count": 6,
   "metadata": {},
   "outputs": [
    {
     "output_type": "execute_result",
     "data": {
      "text/plain": [
       "'0107294583'"
      ]
     },
     "metadata": {},
     "execution_count": 6
    }
   ],
   "source": [
    "# check_isbn10(get_rand_isbn10())\n",
    "get_rand_isbn10()"
   ]
  },
  {
   "cell_type": "code",
   "execution_count": null,
   "metadata": {},
   "outputs": [],
   "source": [
    "[ (10-i) for i in range(9) ]"
   ]
  },
  {
   "cell_type": "code",
   "execution_count": null,
   "metadata": {},
   "outputs": [],
   "source": []
  }
 ]
}