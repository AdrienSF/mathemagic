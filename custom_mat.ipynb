{
 "metadata": {
  "language_info": {
   "codemirror_mode": {
    "name": "ipython",
    "version": 3
   },
   "file_extension": ".py",
   "mimetype": "text/x-python",
   "name": "python",
   "nbconvert_exporter": "python",
   "pygments_lexer": "ipython3",
   "version": "3.8.5"
  },
  "orig_nbformat": 4,
  "kernelspec": {
   "name": "python3",
   "display_name": "Python 3.8.5  ('magenv': venv)"
  },
  "interpreter": {
   "hash": "0ae0017ce98f8fc9fc9c4e3ad18c1e590449a20844fb0c4ee39a135ccfab23b9"
  }
 },
 "nbformat": 4,
 "nbformat_minor": 2,
 "cells": [
  {
   "cell_type": "code",
   "execution_count": 3,
   "metadata": {},
   "outputs": [
    {
     "output_type": "execute_result",
     "data": {
      "text/plain": [
       "array([[ 7,  8,  9,  6, 10, 11],\n",
       "       [ 8,  9, 10,  7, 11, 12],\n",
       "       [ 9, 10, 11,  8, 12, 13],\n",
       "       [ 1,  2,  3,  0,  4,  5],\n",
       "       [10, 11, 12,  9, 13, 14],\n",
       "       [ 1,  2,  3,  0,  4,  5]])"
      ]
     },
     "metadata": {},
     "execution_count": 3
    }
   ],
   "source": [
    "from force_matrix import MatrixHandler\n",
    "\n",
    "handler = MatrixHandler()\n",
    "handler.get_interior_matrix([1,2,3,4,5,6,7,8,9,0], 6, False)"
   ]
  },
  {
   "cell_type": "code",
   "execution_count": null,
   "metadata": {},
   "outputs": [],
   "source": []
  }
 ]
}